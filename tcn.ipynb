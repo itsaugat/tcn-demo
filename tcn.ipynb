{
 "cells": [
  {
   "cell_type": "markdown",
   "metadata": {},
   "source": [
    "Reference : https://github.com/philipperemy/keras-tcn/blob/master/tasks/time_series_forecasting.py"
   ]
  },
  {
   "cell_type": "code",
   "execution_count": 1,
   "metadata": {},
   "outputs": [],
   "source": [
    "import matplotlib.pyplot as plt\n",
    "import numpy as np\n",
    "import pandas as pd\n",
    "from tensorflow.keras import Input, Model\n",
    "from tensorflow.keras.layers import Dense\n",
    "from tcn import TCN"
   ]
  },
  {
   "cell_type": "code",
   "execution_count": 2,
   "metadata": {},
   "outputs": [],
   "source": [
    "data = pd.read_csv('data.csv', index_col=0, parse_dates=True)"
   ]
  },
  {
   "cell_type": "code",
   "execution_count": 3,
   "metadata": {},
   "outputs": [
    {
     "data": {
      "text/html": [
       "<div>\n",
       "<style scoped>\n",
       "    .dataframe tbody tr th:only-of-type {\n",
       "        vertical-align: middle;\n",
       "    }\n",
       "\n",
       "    .dataframe tbody tr th {\n",
       "        vertical-align: top;\n",
       "    }\n",
       "\n",
       "    .dataframe thead th {\n",
       "        text-align: right;\n",
       "    }\n",
       "</style>\n",
       "<table border=\"1\" class=\"dataframe\">\n",
       "  <thead>\n",
       "    <tr style=\"text-align: right;\">\n",
       "      <th></th>\n",
       "      <th>milk_production_pounds</th>\n",
       "    </tr>\n",
       "    <tr>\n",
       "      <th>month</th>\n",
       "      <th></th>\n",
       "    </tr>\n",
       "  </thead>\n",
       "  <tbody>\n",
       "    <tr>\n",
       "      <th>1962-01-01</th>\n",
       "      <td>589</td>\n",
       "    </tr>\n",
       "    <tr>\n",
       "      <th>1962-02-01</th>\n",
       "      <td>561</td>\n",
       "    </tr>\n",
       "    <tr>\n",
       "      <th>1962-03-01</th>\n",
       "      <td>640</td>\n",
       "    </tr>\n",
       "    <tr>\n",
       "      <th>1962-04-01</th>\n",
       "      <td>656</td>\n",
       "    </tr>\n",
       "    <tr>\n",
       "      <th>1962-05-01</th>\n",
       "      <td>727</td>\n",
       "    </tr>\n",
       "  </tbody>\n",
       "</table>\n",
       "</div>"
      ],
      "text/plain": [
       "            milk_production_pounds\n",
       "month                             \n",
       "1962-01-01                     589\n",
       "1962-02-01                     561\n",
       "1962-03-01                     640\n",
       "1962-04-01                     656\n",
       "1962-05-01                     727"
      ]
     },
     "execution_count": 3,
     "metadata": {},
     "output_type": "execute_result"
    }
   ],
   "source": [
    "data.head()"
   ]
  },
  {
   "cell_type": "code",
   "execution_count": 4,
   "metadata": {},
   "outputs": [
    {
     "data": {
      "text/plain": [
       "168"
      ]
     },
     "execution_count": 4,
     "metadata": {},
     "output_type": "execute_result"
    }
   ],
   "source": [
    "len(data)"
   ]
  },
  {
   "cell_type": "code",
   "execution_count": 5,
   "metadata": {},
   "outputs": [],
   "source": [
    "# Creating supervised training dataset\n",
    "data = data.values\n",
    "lookback_window = 12  # months.\n",
    "x = []\n",
    "y = []\n",
    "for i in range(lookback_window, len(data)):\n",
    "    x.append(data[i - lookback_window:i])\n",
    "    y.append(data[i])\n",
    "x = np.array(x)\n",
    "y = np.array(y)"
   ]
  },
  {
   "cell_type": "code",
   "execution_count": 6,
   "metadata": {},
   "outputs": [
    {
     "name": "stdout",
     "output_type": "stream",
     "text": [
      "(156, 12, 1)\n",
      "(156, 1)\n"
     ]
    }
   ],
   "source": [
    "print(x.shape)\n",
    "print(y.shape)"
   ]
  },
  {
   "cell_type": "markdown",
   "metadata": {},
   "source": [
    "TCN model = https://github.com/philipperemy/keras-tcn"
   ]
  },
  {
   "cell_type": "code",
   "execution_count": 7,
   "metadata": {},
   "outputs": [
    {
     "name": "stdout",
     "output_type": "stream",
     "text": [
      "Model: \"functional_1\"\n",
      "_________________________________________________________________\n",
      "Layer (type)                 Output Shape              Param #   \n",
      "=================================================================\n",
      "input_1 (InputLayer)         [(None, 12, 1)]           0         \n",
      "_________________________________________________________________\n",
      "tcn (TCN)                    (None, 64)                91136     \n",
      "_________________________________________________________________\n",
      "dense (Dense)                (None, 1)                 65        \n",
      "=================================================================\n",
      "Total params: 91,201\n",
      "Trainable params: 91,201\n",
      "Non-trainable params: 0\n",
      "_________________________________________________________________\n"
     ]
    }
   ],
   "source": [
    "# Create model using Keras functional model api\n",
    "i = Input(shape=(lookback_window, 1))\n",
    "m = TCN()(i)\n",
    "m = Dense(1, activation='linear')(m)\n",
    "model = Model(inputs=[i], outputs=[m])\n",
    "\n",
    "model.summary()\n",
    "model.compile('adam', 'mae')"
   ]
  },
  {
   "cell_type": "code",
   "execution_count": 8,
   "metadata": {},
   "outputs": [
    {
     "name": "stdout",
     "output_type": "stream",
     "text": [
      "Train...\n",
      "Epoch 1/100\n",
      "5/5 [==============================] - 0s 17ms/step - loss: 13793.1904\n",
      "Epoch 2/100\n",
      "5/5 [==============================] - 0s 18ms/step - loss: 2868.1423\n",
      "Epoch 3/100\n",
      "5/5 [==============================] - 0s 16ms/step - loss: 435.8367\n",
      "Epoch 4/100\n",
      "5/5 [==============================] - 0s 17ms/step - loss: 168.7280\n",
      "Epoch 5/100\n",
      "5/5 [==============================] - 0s 15ms/step - loss: 165.8906\n",
      "Epoch 6/100\n",
      "5/5 [==============================] - 0s 16ms/step - loss: 275.9423\n",
      "Epoch 7/100\n",
      "5/5 [==============================] - 0s 16ms/step - loss: 237.1177\n",
      "Epoch 8/100\n",
      "5/5 [==============================] - 0s 17ms/step - loss: 193.7779\n",
      "Epoch 9/100\n",
      "5/5 [==============================] - 0s 17ms/step - loss: 203.4632\n",
      "Epoch 10/100\n",
      "5/5 [==============================] - 0s 17ms/step - loss: 216.6291\n",
      "Epoch 11/100\n",
      "5/5 [==============================] - 0s 17ms/step - loss: 185.9947\n",
      "Epoch 12/100\n",
      "5/5 [==============================] - 0s 18ms/step - loss: 195.7380\n",
      "Epoch 13/100\n",
      "5/5 [==============================] - 0s 17ms/step - loss: 170.9546\n",
      "Epoch 14/100\n",
      "5/5 [==============================] - 0s 18ms/step - loss: 163.7207\n",
      "Epoch 15/100\n",
      "5/5 [==============================] - 0s 17ms/step - loss: 182.7098\n",
      "Epoch 16/100\n",
      "5/5 [==============================] - 0s 17ms/step - loss: 138.3282\n",
      "Epoch 17/100\n",
      "5/5 [==============================] - 0s 16ms/step - loss: 186.3920\n",
      "Epoch 18/100\n",
      "5/5 [==============================] - 0s 18ms/step - loss: 121.8746\n",
      "Epoch 19/100\n",
      "5/5 [==============================] - 0s 16ms/step - loss: 191.6393\n",
      "Epoch 20/100\n",
      "5/5 [==============================] - 0s 16ms/step - loss: 144.8842\n",
      "Epoch 21/100\n",
      "5/5 [==============================] - 0s 17ms/step - loss: 186.8912\n",
      "Epoch 22/100\n",
      "5/5 [==============================] - 0s 17ms/step - loss: 197.9466\n",
      "Epoch 23/100\n",
      "5/5 [==============================] - 0s 17ms/step - loss: 170.6756\n",
      "Epoch 24/100\n",
      "5/5 [==============================] - 0s 17ms/step - loss: 161.9839\n",
      "Epoch 25/100\n",
      "5/5 [==============================] - 0s 16ms/step - loss: 189.4218\n",
      "Epoch 26/100\n",
      "5/5 [==============================] - 0s 16ms/step - loss: 292.4881\n",
      "Epoch 27/100\n",
      "5/5 [==============================] - 0s 15ms/step - loss: 202.2145\n",
      "Epoch 28/100\n",
      "5/5 [==============================] - 0s 16ms/step - loss: 362.6508\n",
      "Epoch 29/100\n",
      "5/5 [==============================] - 0s 17ms/step - loss: 289.2334\n",
      "Epoch 30/100\n",
      "5/5 [==============================] - 0s 17ms/step - loss: 251.3746\n",
      "Epoch 31/100\n",
      "5/5 [==============================] - 0s 16ms/step - loss: 169.3852\n",
      "Epoch 32/100\n",
      "5/5 [==============================] - 0s 17ms/step - loss: 127.2626\n",
      "Epoch 33/100\n",
      "5/5 [==============================] - 0s 17ms/step - loss: 64.6787\n",
      "Epoch 34/100\n",
      "5/5 [==============================] - 0s 15ms/step - loss: 70.5814\n",
      "Epoch 35/100\n",
      "5/5 [==============================] - 0s 15ms/step - loss: 52.1782\n",
      "Epoch 36/100\n",
      "5/5 [==============================] - 0s 16ms/step - loss: 69.8121\n",
      "Epoch 37/100\n",
      "5/5 [==============================] - 0s 14ms/step - loss: 140.8696\n",
      "Epoch 38/100\n",
      "5/5 [==============================] - 0s 15ms/step - loss: 132.5995\n",
      "Epoch 39/100\n",
      "5/5 [==============================] - 0s 15ms/step - loss: 107.9900\n",
      "Epoch 40/100\n",
      "5/5 [==============================] - 0s 15ms/step - loss: 252.1529\n",
      "Epoch 41/100\n",
      "5/5 [==============================] - 0s 16ms/step - loss: 188.0828\n",
      "Epoch 42/100\n",
      "5/5 [==============================] - 0s 15ms/step - loss: 203.3979\n",
      "Epoch 43/100\n",
      "5/5 [==============================] - 0s 15ms/step - loss: 199.7381\n",
      "Epoch 44/100\n",
      "5/5 [==============================] - 0s 15ms/step - loss: 197.7845\n",
      "Epoch 45/100\n",
      "5/5 [==============================] - 0s 15ms/step - loss: 163.6053\n",
      "Epoch 46/100\n",
      "5/5 [==============================] - 0s 17ms/step - loss: 170.8988\n",
      "Epoch 47/100\n",
      "5/5 [==============================] - 0s 16ms/step - loss: 90.6049\n",
      "Epoch 48/100\n",
      "5/5 [==============================] - 0s 16ms/step - loss: 100.6110\n",
      "Epoch 49/100\n",
      "5/5 [==============================] - 0s 16ms/step - loss: 109.1809\n",
      "Epoch 50/100\n",
      "5/5 [==============================] - 0s 15ms/step - loss: 96.7283\n",
      "Epoch 51/100\n",
      "5/5 [==============================] - 0s 15ms/step - loss: 100.9956\n",
      "Epoch 52/100\n",
      "5/5 [==============================] - 0s 16ms/step - loss: 87.2647\n",
      "Epoch 53/100\n",
      "5/5 [==============================] - 0s 16ms/step - loss: 68.8312\n",
      "Epoch 54/100\n",
      "5/5 [==============================] - 0s 15ms/step - loss: 110.7324\n",
      "Epoch 55/100\n",
      "5/5 [==============================] - 0s 15ms/step - loss: 68.5391\n",
      "Epoch 56/100\n",
      "5/5 [==============================] - 0s 19ms/step - loss: 101.8181\n",
      "Epoch 57/100\n",
      "5/5 [==============================] - 0s 17ms/step - loss: 188.6614\n",
      "Epoch 58/100\n",
      "5/5 [==============================] - 0s 18ms/step - loss: 286.4172\n",
      "Epoch 59/100\n",
      "5/5 [==============================] - 0s 18ms/step - loss: 347.5316\n",
      "Epoch 60/100\n",
      "5/5 [==============================] - 0s 16ms/step - loss: 288.3536\n",
      "Epoch 61/100\n",
      "5/5 [==============================] - 0s 15ms/step - loss: 156.5733\n",
      "Epoch 62/100\n",
      "5/5 [==============================] - 0s 16ms/step - loss: 159.5889\n",
      "Epoch 63/100\n",
      "5/5 [==============================] - 0s 16ms/step - loss: 125.6387\n",
      "Epoch 64/100\n",
      "5/5 [==============================] - 0s 16ms/step - loss: 161.9111\n",
      "Epoch 65/100\n",
      "5/5 [==============================] - 0s 16ms/step - loss: 98.4724\n",
      "Epoch 66/100\n",
      "5/5 [==============================] - 0s 16ms/step - loss: 65.9213\n",
      "Epoch 67/100\n",
      "5/5 [==============================] - 0s 16ms/step - loss: 70.9233\n",
      "Epoch 68/100\n",
      "5/5 [==============================] - 0s 16ms/step - loss: 60.0086\n",
      "Epoch 69/100\n",
      "5/5 [==============================] - 0s 17ms/step - loss: 77.7108\n",
      "Epoch 70/100\n",
      "5/5 [==============================] - 0s 16ms/step - loss: 94.0637\n",
      "Epoch 71/100\n",
      "5/5 [==============================] - 0s 16ms/step - loss: 85.3769\n",
      "Epoch 72/100\n",
      "5/5 [==============================] - 0s 16ms/step - loss: 62.0945\n",
      "Epoch 73/100\n",
      "5/5 [==============================] - 0s 14ms/step - loss: 74.3801\n",
      "Epoch 74/100\n",
      "5/5 [==============================] - 0s 16ms/step - loss: 57.5889\n",
      "Epoch 75/100\n",
      "5/5 [==============================] - 0s 15ms/step - loss: 52.5616\n",
      "Epoch 76/100\n",
      "5/5 [==============================] - 0s 17ms/step - loss: 40.7433\n",
      "Epoch 77/100\n",
      "5/5 [==============================] - 0s 14ms/step - loss: 40.0571\n",
      "Epoch 78/100\n",
      "5/5 [==============================] - 0s 15ms/step - loss: 60.4490\n",
      "Epoch 79/100\n",
      "5/5 [==============================] - 0s 15ms/step - loss: 69.9842\n",
      "Epoch 80/100\n",
      "5/5 [==============================] - 0s 15ms/step - loss: 74.8228\n",
      "Epoch 81/100\n",
      "5/5 [==============================] - 0s 17ms/step - loss: 58.7678\n",
      "Epoch 82/100\n",
      "5/5 [==============================] - 0s 15ms/step - loss: 61.1937\n",
      "Epoch 83/100\n",
      "5/5 [==============================] - 0s 16ms/step - loss: 34.7727\n",
      "Epoch 84/100\n",
      "5/5 [==============================] - 0s 16ms/step - loss: 47.9622\n",
      "Epoch 85/100\n",
      "5/5 [==============================] - 0s 15ms/step - loss: 67.2731\n",
      "Epoch 86/100\n",
      "5/5 [==============================] - 0s 16ms/step - loss: 73.3359\n",
      "Epoch 87/100\n",
      "5/5 [==============================] - 0s 15ms/step - loss: 63.9134\n",
      "Epoch 88/100\n",
      "5/5 [==============================] - 0s 16ms/step - loss: 69.1210\n",
      "Epoch 89/100\n",
      "5/5 [==============================] - 0s 16ms/step - loss: 72.4389\n",
      "Epoch 90/100\n",
      "5/5 [==============================] - 0s 16ms/step - loss: 52.1382\n",
      "Epoch 91/100\n",
      "5/5 [==============================] - 0s 16ms/step - loss: 70.3280\n",
      "Epoch 92/100\n",
      "5/5 [==============================] - 0s 18ms/step - loss: 56.1899\n",
      "Epoch 93/100\n",
      "5/5 [==============================] - 0s 18ms/step - loss: 73.6726\n",
      "Epoch 94/100\n",
      "5/5 [==============================] - 0s 16ms/step - loss: 39.1556\n",
      "Epoch 95/100\n",
      "5/5 [==============================] - 0s 18ms/step - loss: 38.5912\n",
      "Epoch 96/100\n",
      "5/5 [==============================] - 0s 22ms/step - loss: 30.8402\n",
      "Epoch 97/100\n",
      "5/5 [==============================] - 0s 16ms/step - loss: 66.8766\n",
      "Epoch 98/100\n",
      "5/5 [==============================] - 0s 17ms/step - loss: 93.4366\n",
      "Epoch 99/100\n",
      "5/5 [==============================] - 0s 17ms/step - loss: 144.5252\n",
      "Epoch 100/100\n",
      "5/5 [==============================] - 0s 21ms/step - loss: 66.8273\n"
     ]
    },
    {
     "data": {
      "text/plain": [
       "<tensorflow.python.keras.callbacks.History at 0x7f401c6f1208>"
      ]
     },
     "execution_count": 8,
     "metadata": {},
     "output_type": "execute_result"
    }
   ],
   "source": [
    "print('Train...')\n",
    "model.fit(x, y, epochs=100, verbose=1)"
   ]
  },
  {
   "cell_type": "code",
   "execution_count": 9,
   "metadata": {},
   "outputs": [],
   "source": [
    "predictions = model.predict(x)"
   ]
  },
  {
   "cell_type": "code",
   "execution_count": 10,
   "metadata": {},
   "outputs": [
    {
     "data": {
      "image/png": "[encoded data removed]",
      "text/plain": [
       "<Figure size 432x288 with 1 Axes>"
      ]
     },
     "metadata": {
      "needs_background": "light"
     },
     "output_type": "display_data"
    }
   ],
   "source": [
    "plt.plot(predictions)\n",
    "plt.plot(y)\n",
    "plt.title('Monthly Milk Production (in pounds)')\n",
    "plt.legend(['predicted', 'actual'])\n",
    "plt.show()"
   ]
  },
  {
   "cell_type": "code",
   "execution_count": null,
   "metadata": {},
   "outputs": [],
   "source": []
  }
 ],
 "metadata": {
  "kernelspec": {
   "display_name": "lstm-demo",
   "language": "python",
   "name": "lstm-demo"
  },
  "language_info": {
   "codemirror_mode": {
    "name": "ipython",
    "version": 3
   },
   "file_extension": ".py",
   "mimetype": "text/x-python",
   "name": "python",
   "nbconvert_exporter": "python",
   "pygments_lexer": "ipython3",
   "version": "3.6.10"
  }
 },
 "nbformat": 4,
 "nbformat_minor": 4
}
